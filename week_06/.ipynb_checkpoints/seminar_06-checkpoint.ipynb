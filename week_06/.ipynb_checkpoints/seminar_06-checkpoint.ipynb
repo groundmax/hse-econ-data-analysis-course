{
 "cells": [
  {
   "cell_type": "markdown",
   "metadata": {},
   "source": [
    "# Week 6. Finale"
   ]
  },
  {
   "cell_type": "markdown",
   "metadata": {},
   "source": [
    "![](http://careerbuilder.ca/blog/wp-content/uploads/unusual-jobs-e1448638319685.jpg)"
   ]
  },
  {
   "cell_type": "code",
   "execution_count": 16,
   "metadata": {},
   "outputs": [],
   "source": [
    "import pandas as pd\n",
    "import numpy as np\n",
    "import matplotlib.pyplot as plt\n",
    "%matplotlib inline\n",
    "import seaborn as sns"
   ]
  },
  {
   "cell_type": "markdown",
   "metadata": {},
   "source": [
    "## Обработка ошибок"
   ]
  },
  {
   "cell_type": "code",
   "execution_count": 2,
   "metadata": {},
   "outputs": [
    {
     "ename": "TypeError",
     "evalue": "unsupported operand type(s) for +: 'int' and 'str'",
     "output_type": "error",
     "traceback": [
      "\u001b[0;31m---------------------------------------------------------------------------\u001b[0m",
      "\u001b[0;31mTypeError\u001b[0m                                 Traceback (most recent call last)",
      "\u001b[0;32m<ipython-input-2-4815f662042e>\u001b[0m in \u001b[0;36m<module>\u001b[0;34m()\u001b[0m\n\u001b[0;32m----> 1\u001b[0;31m \u001b[1;36m2\u001b[0m \u001b[1;33m+\u001b[0m \u001b[1;34m'6'\u001b[0m\u001b[1;33m\u001b[0m\u001b[0m\n\u001b[0m",
      "\u001b[0;31mTypeError\u001b[0m: unsupported operand type(s) for +: 'int' and 'str'"
     ]
    }
   ],
   "source": [
    "2 + '6'"
   ]
  },
  {
   "cell_type": "code",
   "execution_count": 15,
   "metadata": {},
   "outputs": [
    {
     "ename": "KeyError",
     "evalue": "'lena'",
     "output_type": "error",
     "traceback": [
      "\u001b[0;31m---------------------------------------------------------------------------\u001b[0m",
      "\u001b[0;31mKeyError\u001b[0m                                  Traceback (most recent call last)",
      "\u001b[0;32m<ipython-input-15-c1a2b4b8f704>\u001b[0m in \u001b[0;36m<module>\u001b[0;34m()\u001b[0m\n\u001b[1;32m      1\u001b[0m \u001b[0mscores\u001b[0m \u001b[1;33m=\u001b[0m \u001b[1;33m{\u001b[0m\u001b[1;34m'vasya'\u001b[0m \u001b[1;33m:\u001b[0m \u001b[1;36m5\u001b[0m\u001b[1;33m,\u001b[0m \u001b[1;34m'petya'\u001b[0m \u001b[1;33m:\u001b[0m \u001b[1;36m10\u001b[0m\u001b[1;33m}\u001b[0m\u001b[1;33m\u001b[0m\u001b[0m\n\u001b[1;32m      2\u001b[0m \u001b[0mscores\u001b[0m\u001b[1;33m[\u001b[0m\u001b[1;34m'vasya'\u001b[0m\u001b[1;33m]\u001b[0m \u001b[1;33m+=\u001b[0m \u001b[1;36m1\u001b[0m\u001b[1;33m\u001b[0m\u001b[0m\n\u001b[0;32m----> 3\u001b[0;31m \u001b[0mscores\u001b[0m\u001b[1;33m[\u001b[0m\u001b[1;34m'lena'\u001b[0m\u001b[1;33m]\u001b[0m \u001b[1;33m+=\u001b[0m \u001b[1;36m2\u001b[0m\u001b[1;33m\u001b[0m\u001b[0m\n\u001b[0m",
      "\u001b[0;31mKeyError\u001b[0m: 'lena'"
     ]
    }
   ],
   "source": [
    "scores = {'vasya' : 5, 'petya' : 10}\n",
    "scores['vasya'] += 1\n",
    "scores['lena'] += 2"
   ]
  },
  {
   "cell_type": "code",
   "execution_count": 3,
   "metadata": {
    "collapsed": true
   },
   "outputs": [],
   "source": [
    "aaa = 5"
   ]
  },
  {
   "cell_type": "code",
   "execution_count": 7,
   "metadata": {},
   "outputs": [],
   "source": [
    "#isinstance(aaa, str)"
   ]
  },
  {
   "cell_type": "code",
   "execution_count": 9,
   "metadata": {
    "collapsed": true
   },
   "outputs": [],
   "source": [
    "def summation(a, b):\n",
    "    if not isinstance(a, (int, float)) or not isinstance(b, (int, float)):\n",
    "        return 0\n",
    "    \n",
    "    return a + b"
   ]
  },
  {
   "cell_type": "code",
   "execution_count": 11,
   "metadata": {},
   "outputs": [
    {
     "data": {
      "text/plain": [
       "0"
      ]
     },
     "execution_count": 11,
     "metadata": {},
     "output_type": "execute_result"
    }
   ],
   "source": [
    "summation(3, '4')"
   ]
  },
  {
   "cell_type": "code",
   "execution_count": 12,
   "metadata": {},
   "outputs": [
    {
     "name": "stdout",
     "output_type": "stream",
     "text": [
      "5\n",
      "0\n"
     ]
    }
   ],
   "source": [
    "print(summation(2, 3))\n",
    "print(summation(2, '6'))"
   ]
  },
  {
   "cell_type": "code",
   "execution_count": 18,
   "metadata": {
    "collapsed": true
   },
   "outputs": [],
   "source": [
    "def add_value(key, value, dictionary):\n",
    "    if key in dictionary.keys():\n",
    "        dictionary[key] += value\n",
    "    else:\n",
    "        dictionary[key] = value"
   ]
  },
  {
   "cell_type": "code",
   "execution_count": 19,
   "metadata": {},
   "outputs": [
    {
     "name": "stdout",
     "output_type": "stream",
     "text": [
      "{'vasya': 5, 'petya': 10}\n",
      "{'vasya': 6, 'petya': 10}\n",
      "{'vasya': 6, 'petya': 10, 'lena': 2}\n"
     ]
    }
   ],
   "source": [
    "scores = {'vasya' : 5, 'petya' : 10}\n",
    "print(scores)\n",
    "\n",
    "add_value('vasya', 1, scores)\n",
    "print(scores)\n",
    "\n",
    "add_value('lena', 2, scores)\n",
    "print(scores)"
   ]
  },
  {
   "cell_type": "code",
   "execution_count": 20,
   "metadata": {
    "collapsed": true
   },
   "outputs": [],
   "source": [
    "def summation(a, b):\n",
    "    try:\n",
    "        return a + b\n",
    "    except TypeError:\n",
    "        return 0"
   ]
  },
  {
   "cell_type": "code",
   "execution_count": 21,
   "metadata": {},
   "outputs": [
    {
     "name": "stdout",
     "output_type": "stream",
     "text": [
      "5\n",
      "0\n"
     ]
    }
   ],
   "source": [
    "print(summation(2, 3))\n",
    "print(summation(2, '6'))"
   ]
  },
  {
   "cell_type": "code",
   "execution_count": 27,
   "metadata": {
    "collapsed": true
   },
   "outputs": [],
   "source": [
    "def add_value(key, value, dictionary):\n",
    "    try:\n",
    "        dictionary[key] += value\n",
    "    except KeyError:\n",
    "        dictionary[key] = value"
   ]
  },
  {
   "cell_type": "code",
   "execution_count": 28,
   "metadata": {},
   "outputs": [
    {
     "name": "stdout",
     "output_type": "stream",
     "text": [
      "{'vasya': 5, 'petya': 10}\n",
      "{'vasya': 6, 'petya': 10}\n",
      "{'vasya': 6, 'petya': 10, 'lena': 2}\n"
     ]
    }
   ],
   "source": [
    "scores = {'vasya' : 5, 'petya' : 10}\n",
    "print(scores)\n",
    "\n",
    "add_value('vasya', 1, scores)\n",
    "print(scores)\n",
    "\n",
    "add_value('lena', 2, scores)\n",
    "print(scores)"
   ]
  },
  {
   "cell_type": "code",
   "execution_count": 29,
   "metadata": {},
   "outputs": [
    {
     "ename": "TypeError",
     "evalue": "unsupported operand type(s) for +=: 'int' and 'str'",
     "output_type": "error",
     "traceback": [
      "\u001b[0;31m---------------------------------------------------------------------------\u001b[0m",
      "\u001b[0;31mTypeError\u001b[0m                                 Traceback (most recent call last)",
      "\u001b[0;32m<ipython-input-29-e4311974b53f>\u001b[0m in \u001b[0;36m<module>\u001b[0;34m()\u001b[0m\n\u001b[1;32m      1\u001b[0m \u001b[0mscores\u001b[0m \u001b[1;33m=\u001b[0m \u001b[1;33m{\u001b[0m\u001b[1;34m'vasya'\u001b[0m \u001b[1;33m:\u001b[0m \u001b[1;36m5\u001b[0m\u001b[1;33m,\u001b[0m \u001b[1;34m'petya'\u001b[0m \u001b[1;33m:\u001b[0m \u001b[1;36m10\u001b[0m\u001b[1;33m}\u001b[0m\u001b[1;33m\u001b[0m\u001b[0m\n\u001b[0;32m----> 2\u001b[0;31m \u001b[0madd_value\u001b[0m\u001b[1;33m(\u001b[0m\u001b[1;34m'vasya'\u001b[0m\u001b[1;33m,\u001b[0m \u001b[1;34m'1'\u001b[0m\u001b[1;33m,\u001b[0m \u001b[0mscores\u001b[0m\u001b[1;33m)\u001b[0m\u001b[1;33m\u001b[0m\u001b[0m\n\u001b[0m",
      "\u001b[0;32m<ipython-input-27-a0af06c4465c>\u001b[0m in \u001b[0;36madd_value\u001b[0;34m(key, value, dictionary)\u001b[0m\n\u001b[1;32m      1\u001b[0m \u001b[1;32mdef\u001b[0m \u001b[0madd_value\u001b[0m\u001b[1;33m(\u001b[0m\u001b[0mkey\u001b[0m\u001b[1;33m,\u001b[0m \u001b[0mvalue\u001b[0m\u001b[1;33m,\u001b[0m \u001b[0mdictionary\u001b[0m\u001b[1;33m)\u001b[0m\u001b[1;33m:\u001b[0m\u001b[1;33m\u001b[0m\u001b[0m\n\u001b[1;32m      2\u001b[0m     \u001b[1;32mtry\u001b[0m\u001b[1;33m:\u001b[0m\u001b[1;33m\u001b[0m\u001b[0m\n\u001b[0;32m----> 3\u001b[0;31m         \u001b[0mdictionary\u001b[0m\u001b[1;33m[\u001b[0m\u001b[0mkey\u001b[0m\u001b[1;33m]\u001b[0m \u001b[1;33m+=\u001b[0m \u001b[0mvalue\u001b[0m\u001b[1;33m\u001b[0m\u001b[0m\n\u001b[0m\u001b[1;32m      4\u001b[0m     \u001b[1;32mexcept\u001b[0m \u001b[0mKeyError\u001b[0m\u001b[1;33m:\u001b[0m\u001b[1;33m\u001b[0m\u001b[0m\n\u001b[1;32m      5\u001b[0m         \u001b[0mdictionary\u001b[0m\u001b[1;33m[\u001b[0m\u001b[0mkey\u001b[0m\u001b[1;33m]\u001b[0m \u001b[1;33m=\u001b[0m \u001b[0mvalue\u001b[0m\u001b[1;33m\u001b[0m\u001b[0m\n",
      "\u001b[0;31mTypeError\u001b[0m: unsupported operand type(s) for +=: 'int' and 'str'"
     ]
    }
   ],
   "source": [
    "scores = {'vasya' : 5, 'petya' : 10}\n",
    "add_value('vasya', '1', scores)"
   ]
  },
  {
   "cell_type": "code",
   "execution_count": 33,
   "metadata": {
    "collapsed": true
   },
   "outputs": [],
   "source": [
    "# почему плохо делать просто except\n",
    "def divide_value(key, value, dictionary):\n",
    "    # try:\n",
    "    dictionary[key] /= value\n",
    "#     except:\n",
    "#         dictionary[key] = 0"
   ]
  },
  {
   "cell_type": "code",
   "execution_count": 35,
   "metadata": {},
   "outputs": [
    {
     "name": "stdout",
     "output_type": "stream",
     "text": [
      "{'vasya': 5, 'petya': 10}\n",
      "{'vasya': 2.5, 'petya': 10}\n"
     ]
    },
    {
     "ename": "ZeroDivisionError",
     "evalue": "float division by zero",
     "output_type": "error",
     "traceback": [
      "\u001b[0;31m---------------------------------------------------------------------------\u001b[0m",
      "\u001b[0;31mZeroDivisionError\u001b[0m                         Traceback (most recent call last)",
      "\u001b[0;32m<ipython-input-35-838f1a7c79ba>\u001b[0m in \u001b[0;36m<module>\u001b[0;34m()\u001b[0m\n\u001b[1;32m      9\u001b[0m \u001b[1;31m# print(scores)\u001b[0m\u001b[1;33m\u001b[0m\u001b[1;33m\u001b[0m\u001b[0m\n\u001b[1;32m     10\u001b[0m \u001b[1;33m\u001b[0m\u001b[0m\n\u001b[0;32m---> 11\u001b[0;31m \u001b[0mdivide_value\u001b[0m\u001b[1;33m(\u001b[0m\u001b[1;34m'vasya'\u001b[0m\u001b[1;33m,\u001b[0m \u001b[1;36m0\u001b[0m\u001b[1;33m,\u001b[0m \u001b[0mscores\u001b[0m\u001b[1;33m)\u001b[0m\u001b[1;33m\u001b[0m\u001b[0m\n\u001b[0m\u001b[1;32m     12\u001b[0m \u001b[0mprint\u001b[0m\u001b[1;33m(\u001b[0m\u001b[0mscores\u001b[0m\u001b[1;33m)\u001b[0m\u001b[1;33m\u001b[0m\u001b[0m\n",
      "\u001b[0;32m<ipython-input-33-207709e21878>\u001b[0m in \u001b[0;36mdivide_value\u001b[0;34m(key, value, dictionary)\u001b[0m\n\u001b[1;32m      2\u001b[0m \u001b[1;32mdef\u001b[0m \u001b[0mdivide_value\u001b[0m\u001b[1;33m(\u001b[0m\u001b[0mkey\u001b[0m\u001b[1;33m,\u001b[0m \u001b[0mvalue\u001b[0m\u001b[1;33m,\u001b[0m \u001b[0mdictionary\u001b[0m\u001b[1;33m)\u001b[0m\u001b[1;33m:\u001b[0m\u001b[1;33m\u001b[0m\u001b[0m\n\u001b[1;32m      3\u001b[0m     \u001b[1;31m# try:\u001b[0m\u001b[1;33m\u001b[0m\u001b[1;33m\u001b[0m\u001b[0m\n\u001b[0;32m----> 4\u001b[0;31m     \u001b[0mdictionary\u001b[0m\u001b[1;33m[\u001b[0m\u001b[0mkey\u001b[0m\u001b[1;33m]\u001b[0m \u001b[1;33m/=\u001b[0m \u001b[0mvalue\u001b[0m\u001b[1;33m\u001b[0m\u001b[0m\n\u001b[0m\u001b[1;32m      5\u001b[0m \u001b[1;31m#     except:\u001b[0m\u001b[1;33m\u001b[0m\u001b[1;33m\u001b[0m\u001b[0m\n\u001b[1;32m      6\u001b[0m \u001b[1;31m#         dictionary[key] = 0\u001b[0m\u001b[1;33m\u001b[0m\u001b[1;33m\u001b[0m\u001b[0m\n",
      "\u001b[0;31mZeroDivisionError\u001b[0m: float division by zero"
     ]
    }
   ],
   "source": [
    "scores = {'vasya' : 5, 'petya' : 10}\n",
    "print(scores)\n",
    "\n",
    "divide_value('vasya', 2, scores)\n",
    "print(scores)\n",
    "\n",
    "\n",
    "# divide_value('lena', 1, scores)\n",
    "# print(scores)\n",
    "\n",
    "divide_value('vasya', 0, scores)\n",
    "print(scores)"
   ]
  },
  {
   "cell_type": "code",
   "execution_count": 36,
   "metadata": {
    "collapsed": true
   },
   "outputs": [],
   "source": [
    "def add_value(key, value, dictionary):\n",
    "    try:\n",
    "        dictionary[key] += value\n",
    "    except KeyError:\n",
    "        dictionary[key] = value\n",
    "    finally:\n",
    "        if 'Батя' in dictionary.keys():\n",
    "            dictionary['Батя'] += 100\n",
    "        else:\n",
    "            dictionary['Батя'] = 100"
   ]
  },
  {
   "cell_type": "code",
   "execution_count": 37,
   "metadata": {},
   "outputs": [
    {
     "name": "stdout",
     "output_type": "stream",
     "text": [
      "{'vasya': 5, 'petya': 10}\n",
      "{'vasya': 6, 'petya': 10, 'Батя': 100}\n",
      "{'vasya': 6, 'petya': 10, 'Батя': 200, 'lena': 2}\n"
     ]
    }
   ],
   "source": [
    "scores = {'vasya' : 5, 'petya' : 10}\n",
    "print(scores)\n",
    "\n",
    "add_value('vasya', 1, scores)\n",
    "print(scores)\n",
    "\n",
    "add_value('lena', 2, scores)\n",
    "print(scores)"
   ]
  },
  {
   "cell_type": "code",
   "execution_count": 49,
   "metadata": {
    "collapsed": true
   },
   "outputs": [],
   "source": [
    "def add_value(key, value, dictionary):\n",
    "    try:\n",
    "        dictionary[key] += value\n",
    "    except KeyError:\n",
    "        dictionary[key] = value\n",
    "    else:\n",
    "        dictionary[key] += 1\n",
    "    finally:\n",
    "        if 'Батя' in dictionary.keys():\n",
    "            dictionary['Батя'] += 100\n",
    "        else:\n",
    "            dictionary['Батя'] = 100"
   ]
  },
  {
   "cell_type": "code",
   "execution_count": 50,
   "metadata": {},
   "outputs": [
    {
     "name": "stdout",
     "output_type": "stream",
     "text": [
      "{'vasya': 5, 'petya': 10}\n",
      "{'vasya': 7, 'petya': 10, 'Батя': 100}\n",
      "{'vasya': 7, 'petya': 10, 'Батя': 200, 'lena': 2}\n"
     ]
    }
   ],
   "source": [
    "scores = {'vasya' : 5, 'petya' : 10}\n",
    "print(scores)\n",
    "\n",
    "add_value('vasya', 1, scores)\n",
    "print(scores)\n",
    "\n",
    "add_value('lena', 2, scores)\n",
    "print(scores)"
   ]
  },
  {
   "cell_type": "code",
   "execution_count": 38,
   "metadata": {
    "collapsed": true
   },
   "outputs": [],
   "source": [
    "def add_value(key, value, dictionary):\n",
    "    if key == 'bad guy':\n",
    "        raise KeyError('плохих парней не принимаем')\n",
    "    try:\n",
    "        dictionary[key] += value\n",
    "    except KeyError:\n",
    "        dictionary[key] = value\n",
    "    finally:\n",
    "        if 'Батя' in dictionary.keys():\n",
    "            dictionary['Батя'] += 100\n",
    "        else:\n",
    "            dictionary['Батя'] = 100"
   ]
  },
  {
   "cell_type": "code",
   "execution_count": 39,
   "metadata": {},
   "outputs": [
    {
     "name": "stdout",
     "output_type": "stream",
     "text": [
      "{'vasya': 5, 'petya': 10}\n",
      "{'vasya': 6, 'petya': 10, 'Батя': 100}\n",
      "{'vasya': 6, 'petya': 10, 'Батя': 200, 'lena': 2}\n"
     ]
    },
    {
     "ename": "KeyError",
     "evalue": "'плохих парней не принимаем'",
     "output_type": "error",
     "traceback": [
      "\u001b[0;31m---------------------------------------------------------------------------\u001b[0m",
      "\u001b[0;31mKeyError\u001b[0m                                  Traceback (most recent call last)",
      "\u001b[0;32m<ipython-input-39-c822f2734f65>\u001b[0m in \u001b[0;36m<module>\u001b[0;34m()\u001b[0m\n\u001b[1;32m      8\u001b[0m \u001b[0mprint\u001b[0m\u001b[1;33m(\u001b[0m\u001b[0mscores\u001b[0m\u001b[1;33m)\u001b[0m\u001b[1;33m\u001b[0m\u001b[0m\n\u001b[1;32m      9\u001b[0m \u001b[1;33m\u001b[0m\u001b[0m\n\u001b[0;32m---> 10\u001b[0;31m \u001b[0madd_value\u001b[0m\u001b[1;33m(\u001b[0m\u001b[1;34m'bad guy'\u001b[0m\u001b[1;33m,\u001b[0m \u001b[1;36m2\u001b[0m\u001b[1;33m,\u001b[0m \u001b[0mscores\u001b[0m\u001b[1;33m)\u001b[0m\u001b[1;33m\u001b[0m\u001b[0m\n\u001b[0m\u001b[1;32m     11\u001b[0m \u001b[0mprint\u001b[0m\u001b[1;33m(\u001b[0m\u001b[0mscores\u001b[0m\u001b[1;33m)\u001b[0m\u001b[1;33m\u001b[0m\u001b[0m\n",
      "\u001b[0;32m<ipython-input-38-2b05d7d6efd5>\u001b[0m in \u001b[0;36madd_value\u001b[0;34m(key, value, dictionary)\u001b[0m\n\u001b[1;32m      1\u001b[0m \u001b[1;32mdef\u001b[0m \u001b[0madd_value\u001b[0m\u001b[1;33m(\u001b[0m\u001b[0mkey\u001b[0m\u001b[1;33m,\u001b[0m \u001b[0mvalue\u001b[0m\u001b[1;33m,\u001b[0m \u001b[0mdictionary\u001b[0m\u001b[1;33m)\u001b[0m\u001b[1;33m:\u001b[0m\u001b[1;33m\u001b[0m\u001b[0m\n\u001b[1;32m      2\u001b[0m     \u001b[1;32mif\u001b[0m \u001b[0mkey\u001b[0m \u001b[1;33m==\u001b[0m \u001b[1;34m'bad guy'\u001b[0m\u001b[1;33m:\u001b[0m\u001b[1;33m\u001b[0m\u001b[0m\n\u001b[0;32m----> 3\u001b[0;31m         \u001b[1;32mraise\u001b[0m \u001b[0mKeyError\u001b[0m\u001b[1;33m(\u001b[0m\u001b[1;34m'плохих парней не принимаем'\u001b[0m\u001b[1;33m)\u001b[0m\u001b[1;33m\u001b[0m\u001b[0m\n\u001b[0m\u001b[1;32m      4\u001b[0m     \u001b[1;32mtry\u001b[0m\u001b[1;33m:\u001b[0m\u001b[1;33m\u001b[0m\u001b[0m\n\u001b[1;32m      5\u001b[0m         \u001b[0mdictionary\u001b[0m\u001b[1;33m[\u001b[0m\u001b[0mkey\u001b[0m\u001b[1;33m]\u001b[0m \u001b[1;33m+=\u001b[0m \u001b[0mvalue\u001b[0m\u001b[1;33m\u001b[0m\u001b[0m\n",
      "\u001b[0;31mKeyError\u001b[0m: 'плохих парней не принимаем'"
     ]
    }
   ],
   "source": [
    "scores = {'vasya' : 5, 'petya' : 10}\n",
    "print(scores)\n",
    "\n",
    "add_value('vasya', 1, scores)\n",
    "print(scores)\n",
    "\n",
    "add_value('lena', 2, scores)\n",
    "print(scores)\n",
    "\n",
    "add_value('bad guy', 2, scores)\n",
    "print(scores)"
   ]
  },
  {
   "cell_type": "code",
   "execution_count": 41,
   "metadata": {
    "collapsed": true
   },
   "outputs": [],
   "source": [
    "def add_value(key, value, dictionary):\n",
    "    if key == 'bad guy':\n",
    "        raise KeyError('плохих парней не принимаем')\n",
    "        \n",
    "    assert isinstance(key, str), 'В качестве ключай пользуемся только строками!'\n",
    "    try:\n",
    "        dictionary[key] += value\n",
    "    except KeyError:\n",
    "        dictionary[key] = value\n",
    "    finally:\n",
    "        if 'Батя' in dictionary.keys():\n",
    "            dictionary['Батя'] += 100\n",
    "        else:\n",
    "            dictionary['Батя'] = 100"
   ]
  },
  {
   "cell_type": "code",
   "execution_count": 42,
   "metadata": {},
   "outputs": [
    {
     "name": "stdout",
     "output_type": "stream",
     "text": [
      "{'vasya': 5, 'petya': 10}\n",
      "{'vasya': 6, 'petya': 10, 'Батя': 100}\n",
      "{'vasya': 6, 'petya': 10, 'Батя': 200, 'lena': 2}\n"
     ]
    },
    {
     "ename": "AssertionError",
     "evalue": "В качестве ключай пользуемся только строками!",
     "output_type": "error",
     "traceback": [
      "\u001b[0;31m---------------------------------------------------------------------------\u001b[0m",
      "\u001b[0;31mAssertionError\u001b[0m                            Traceback (most recent call last)",
      "\u001b[0;32m<ipython-input-42-c55a0ad73303>\u001b[0m in \u001b[0;36m<module>\u001b[0;34m()\u001b[0m\n\u001b[1;32m      8\u001b[0m \u001b[0mprint\u001b[0m\u001b[1;33m(\u001b[0m\u001b[0mscores\u001b[0m\u001b[1;33m)\u001b[0m\u001b[1;33m\u001b[0m\u001b[0m\n\u001b[1;32m      9\u001b[0m \u001b[1;33m\u001b[0m\u001b[0m\n\u001b[0;32m---> 10\u001b[0;31m \u001b[0madd_value\u001b[0m\u001b[1;33m(\u001b[0m\u001b[1;36m444\u001b[0m\u001b[1;33m,\u001b[0m \u001b[1;36m2\u001b[0m\u001b[1;33m,\u001b[0m \u001b[0mscores\u001b[0m\u001b[1;33m)\u001b[0m\u001b[1;33m\u001b[0m\u001b[0m\n\u001b[0m\u001b[1;32m     11\u001b[0m \u001b[0mprint\u001b[0m\u001b[1;33m(\u001b[0m\u001b[0mscores\u001b[0m\u001b[1;33m)\u001b[0m\u001b[1;33m\u001b[0m\u001b[0m\n",
      "\u001b[0;32m<ipython-input-41-7c01224f5686>\u001b[0m in \u001b[0;36madd_value\u001b[0;34m(key, value, dictionary)\u001b[0m\n\u001b[1;32m      3\u001b[0m         \u001b[1;32mraise\u001b[0m \u001b[0mKeyError\u001b[0m\u001b[1;33m(\u001b[0m\u001b[1;34m'плохих парней не принимаем'\u001b[0m\u001b[1;33m)\u001b[0m\u001b[1;33m\u001b[0m\u001b[0m\n\u001b[1;32m      4\u001b[0m \u001b[1;33m\u001b[0m\u001b[0m\n\u001b[0;32m----> 5\u001b[0;31m     \u001b[1;32massert\u001b[0m \u001b[0misinstance\u001b[0m\u001b[1;33m(\u001b[0m\u001b[0mkey\u001b[0m\u001b[1;33m,\u001b[0m \u001b[0mstr\u001b[0m\u001b[1;33m)\u001b[0m\u001b[1;33m,\u001b[0m \u001b[1;34m'В качестве ключай пользуемся только строками!'\u001b[0m\u001b[1;33m\u001b[0m\u001b[0m\n\u001b[0m\u001b[1;32m      6\u001b[0m     \u001b[1;32mtry\u001b[0m\u001b[1;33m:\u001b[0m\u001b[1;33m\u001b[0m\u001b[0m\n\u001b[1;32m      7\u001b[0m         \u001b[0mdictionary\u001b[0m\u001b[1;33m[\u001b[0m\u001b[0mkey\u001b[0m\u001b[1;33m]\u001b[0m \u001b[1;33m+=\u001b[0m \u001b[0mvalue\u001b[0m\u001b[1;33m\u001b[0m\u001b[0m\n",
      "\u001b[0;31mAssertionError\u001b[0m: В качестве ключай пользуемся только строками!"
     ]
    }
   ],
   "source": [
    "scores = {'vasya' : 5, 'petya' : 10}\n",
    "print(scores)\n",
    "\n",
    "add_value('vasya', 1, scores)\n",
    "print(scores)\n",
    "\n",
    "add_value('lena', 2, scores)\n",
    "print(scores)\n",
    "\n",
    "add_value(444, 2, scores)\n",
    "print(scores)"
   ]
  },
  {
   "cell_type": "code",
   "execution_count": 41,
   "metadata": {},
   "outputs": [
    {
     "data": {
      "text/plain": [
       "23"
      ]
     },
     "execution_count": 41,
     "metadata": {},
     "output_type": "execute_result"
    }
   ],
   "source": [
    "len(OSError.__subclasses__())"
   ]
  },
  {
   "cell_type": "code",
   "execution_count": 43,
   "metadata": {},
   "outputs": [
    {
     "data": {
      "text/plain": [
       "[ConnectionError,\n",
       " BlockingIOError,\n",
       " ChildProcessError,\n",
       " FileExistsError,\n",
       " FileNotFoundError,\n",
       " IsADirectoryError,\n",
       " NotADirectoryError,\n",
       " InterruptedError,\n",
       " PermissionError,\n",
       " ProcessLookupError,\n",
       " TimeoutError,\n",
       " io.UnsupportedOperation,\n",
       " shutil.Error,\n",
       " shutil.SpecialFileError,\n",
       " shutil.ExecError,\n",
       " shutil.ReadError,\n",
       " socket.herror,\n",
       " socket.gaierror,\n",
       " socket.timeout,\n",
       " ssl.SSLError,\n",
       " urllib.error.URLError,\n",
       " pandas.io.sql.DatabaseError,\n",
       " py._error.Error]"
      ]
     },
     "execution_count": 43,
     "metadata": {},
     "output_type": "execute_result"
    }
   ],
   "source": [
    "OSError.__subclasses__()"
   ]
  },
  {
   "cell_type": "code",
   "execution_count": 45,
   "metadata": {
    "collapsed": true
   },
   "outputs": [],
   "source": [
    "import requests"
   ]
  },
  {
   "cell_type": "code",
   "execution_count": 44,
   "metadata": {},
   "outputs": [
    {
     "data": {
      "text/plain": [
       "26"
      ]
     },
     "execution_count": 44,
     "metadata": {},
     "output_type": "execute_result"
    }
   ],
   "source": [
    "len(OSError.__subclasses__())"
   ]
  },
  {
   "cell_type": "code",
   "execution_count": 48,
   "metadata": {},
   "outputs": [
    {
     "data": {
      "text/plain": [
       "{BlockingIOError,\n",
       " ChildProcessError,\n",
       " ConnectionError,\n",
       " FileExistsError,\n",
       " FileNotFoundError,\n",
       " InterruptedError,\n",
       " IsADirectoryError,\n",
       " NotADirectoryError,\n",
       " PermissionError,\n",
       " ProcessLookupError,\n",
       " TimeoutError,\n",
       " http.cookiejar.LoadError,\n",
       " io.UnsupportedOperation,\n",
       " pandas.io.sql.DatabaseError,\n",
       " requests.exceptions.RequestException,\n",
       " shutil.Error,\n",
       " shutil.ExecError,\n",
       " shutil.ReadError,\n",
       " shutil.SpecialFileError,\n",
       " signal.ItimerError,\n",
       " socket.gaierror,\n",
       " socket.herror,\n",
       " socket.timeout,\n",
       " socks.ProxyError,\n",
       " ssl.SSLError,\n",
       " urllib.error.URLError}"
      ]
     },
     "execution_count": 48,
     "metadata": {},
     "output_type": "execute_result"
    }
   ],
   "source": [
    "set(OSError.__subclasses__())"
   ]
  },
  {
   "cell_type": "markdown",
   "metadata": {},
   "source": [
    "Можно свои исключения создавать. Погуглите, кому интересно."
   ]
  },
  {
   "cell_type": "markdown",
   "metadata": {},
   "source": [
    "## Модули"
   ]
  },
  {
   "cell_type": "code",
   "execution_count": 45,
   "metadata": {
    "collapsed": true
   },
   "outputs": [],
   "source": [
    "import test"
   ]
  },
  {
   "cell_type": "code",
   "execution_count": 46,
   "metadata": {},
   "outputs": [
    {
     "name": "stdout",
     "output_type": "stream",
     "text": [
      "Hello, Василий!\n"
     ]
    }
   ],
   "source": [
    "test.function_from_my_module('Василий')"
   ]
  },
  {
   "cell_type": "code",
   "execution_count": 47,
   "metadata": {
    "collapsed": true
   },
   "outputs": [],
   "source": [
    "from test import function_from_my_module"
   ]
  },
  {
   "cell_type": "code",
   "execution_count": 48,
   "metadata": {},
   "outputs": [
    {
     "name": "stdout",
     "output_type": "stream",
     "text": [
      "Hello, Василий!\n"
     ]
    }
   ],
   "source": [
    "function_from_my_module('Василий')"
   ]
  },
  {
   "cell_type": "code",
   "execution_count": 71,
   "metadata": {
    "collapsed": true
   },
   "outputs": [],
   "source": [
    "# import importlib\n",
    "# importlib.reload(test2)"
   ]
  },
  {
   "cell_type": "code",
   "execution_count": 49,
   "metadata": {},
   "outputs": [
    {
     "name": "stdout",
     "output_type": "stream",
     "text": [
      "loaded test2.py\n"
     ]
    }
   ],
   "source": [
    "import test2"
   ]
  },
  {
   "cell_type": "code",
   "execution_count": 50,
   "metadata": {},
   "outputs": [
    {
     "name": "stdout",
     "output_type": "stream",
     "text": [
      "HeLlOOo, Василий!!!!!!))))))))))\n"
     ]
    }
   ],
   "source": [
    "test2.function_from_my_module2('Василий')"
   ]
  },
  {
   "cell_type": "markdown",
   "metadata": {},
   "source": [
    "## numpy & scipy"
   ]
  },
  {
   "cell_type": "code",
   "execution_count": 65,
   "metadata": {
    "collapsed": true
   },
   "outputs": [],
   "source": [
    "a = np.array([1,2,3,3,4555])\n",
    "b = np.array([2,3,3,3,3])\n",
    "\n",
    "a = np.array([[1,4555],[2,3]])"
   ]
  },
  {
   "cell_type": "code",
   "execution_count": 72,
   "metadata": {},
   "outputs": [
    {
     "data": {
      "text/plain": [
       "array([[ 0.,  0.,  0.],\n",
       "       [ 0.,  0.,  0.],\n",
       "       [ 0.,  0.,  0.]])"
      ]
     },
     "execution_count": 72,
     "metadata": {},
     "output_type": "execute_result"
    }
   ],
   "source": [
    "np.zeros(shape=(3,3))"
   ]
  },
  {
   "cell_type": "code",
   "execution_count": 74,
   "metadata": {},
   "outputs": [
    {
     "data": {
      "text/plain": [
       "array([[ 6.,  6.,  6.],\n",
       "       [ 6.,  6.,  6.],\n",
       "       [ 6.,  6.,  6.]])"
      ]
     },
     "execution_count": 74,
     "metadata": {},
     "output_type": "execute_result"
    }
   ],
   "source": [
    "np.ones(shape=(3,3)) * 6"
   ]
  },
  {
   "cell_type": "code",
   "execution_count": 76,
   "metadata": {},
   "outputs": [
    {
     "data": {
      "text/plain": [
       "array([1, 1, 1, 1, 1])"
      ]
     },
     "execution_count": 76,
     "metadata": {},
     "output_type": "execute_result"
    }
   ],
   "source": [
    "np.ones_like(b)"
   ]
  },
  {
   "cell_type": "code",
   "execution_count": 77,
   "metadata": {},
   "outputs": [
    {
     "data": {
      "text/plain": [
       "array([ 1,  4,  7, 10, 13, 16, 19])"
      ]
     },
     "execution_count": 77,
     "metadata": {},
     "output_type": "execute_result"
    }
   ],
   "source": [
    "np.arange(1, 20, 3)"
   ]
  },
  {
   "cell_type": "code",
   "execution_count": 71,
   "metadata": {},
   "outputs": [
    {
     "data": {
      "text/plain": [
       "-9107.0000000000055"
      ]
     },
     "execution_count": 71,
     "metadata": {},
     "output_type": "execute_result"
    }
   ],
   "source": [
    "np.linalg.det(a)"
   ]
  },
  {
   "cell_type": "code",
   "execution_count": 78,
   "metadata": {},
   "outputs": [
    {
     "data": {
      "text/plain": [
       "array([ 0.  ,  0.25,  0.5 ,  0.75,  1.  ,  1.25,  1.5 ,  1.75,  2.  ])"
      ]
     },
     "execution_count": 78,
     "metadata": {},
     "output_type": "execute_result"
    }
   ],
   "source": [
    "np.linspace(0, 2, 9) "
   ]
  },
  {
   "cell_type": "code",
   "execution_count": 81,
   "metadata": {},
   "outputs": [
    {
     "data": {
      "text/plain": [
       "array([ 1.41421356,  1.73205081,  1.73205081,  1.73205081,  1.73205081])"
      ]
     },
     "execution_count": 81,
     "metadata": {},
     "output_type": "execute_result"
    }
   ],
   "source": [
    "np.sqrt(b)"
   ]
  },
  {
   "cell_type": "code",
   "execution_count": 19,
   "metadata": {
    "collapsed": true
   },
   "outputs": [],
   "source": [
    "# https://docs.scipy.org/doc/numpy/user/quickstart.html"
   ]
  },
  {
   "cell_type": "code",
   "execution_count": null,
   "metadata": {
    "collapsed": true
   },
   "outputs": [],
   "source": []
  },
  {
   "cell_type": "code",
   "execution_count": 91,
   "metadata": {
    "collapsed": true
   },
   "outputs": [],
   "source": [
    "sample = np.random.normal(size=800, loc=10, scale=2)"
   ]
  },
  {
   "cell_type": "code",
   "execution_count": 92,
   "metadata": {},
   "outputs": [
    {
     "data": {
      "text/plain": [
       "array([  8.58730198,   7.11789238,   8.34020813,   9.9497423 ,\n",
       "        11.00910499,  12.14946251,   9.85256446,  12.54161617,\n",
       "         9.97304389,  11.43114112,  10.62794027,   9.24075556,\n",
       "        12.92545589,   8.49974786,  11.76710557,  13.42823449,\n",
       "         9.56044167,   9.28143157,   8.52762317,  10.24754904,\n",
       "         8.5704587 ,   7.81087692,  11.4456509 ,  11.64837485,\n",
       "         9.36959199,  10.57053757,  11.34634571,   8.61467187,\n",
       "         7.42191499,   8.90303054,  11.98359328,  11.34998472,\n",
       "        11.50039369,   9.53580473,   8.46850397,  11.82654586,\n",
       "         7.34282959,  10.80437487,   9.44530416,   6.78879881,\n",
       "        11.34823221,   8.14740471,   9.23094138,  12.13678472,\n",
       "         9.29237198,   9.26800836,   8.80888796,   7.85992741,\n",
       "        10.99098406,  15.34541416,   7.99242968,  11.73751995,\n",
       "         6.42753657,  11.39461585,  10.67695445,   8.61755768,\n",
       "        10.24930233,   5.90791892,  10.37234516,  13.15432943,\n",
       "        10.78015117,  12.00641839,   9.92510512,   6.99370713,\n",
       "        13.89726662,   9.27431567,   7.36505661,  12.46061961,\n",
       "        11.27097299,  10.96157808,  10.19665334,  10.83958025,\n",
       "        12.88880771,   9.17241592,   7.49612797,  10.27981784,\n",
       "        11.80097739,  11.95581655,   9.78294951,  11.90069943,\n",
       "         8.93802868,  14.52667264,   7.8385501 ,   8.92340748,\n",
       "         6.78982834,   9.59075498,  11.70777426,  12.64974211,\n",
       "         9.47035507,  10.07151288,  10.35395931,  12.01442454,\n",
       "         7.91087911,  11.4152914 ,  10.35002907,  11.4362929 ,\n",
       "        10.25571346,   8.42305345,   8.20331172,   9.52271461,\n",
       "         9.24518994,  10.46979362,   9.4331454 ,  12.68706393,\n",
       "        10.94774065,  10.65741538,  10.61824228,  10.56832487,\n",
       "        10.4737991 ,   7.12046312,  12.50117873,   9.45222837,\n",
       "         8.76402142,  10.25104046,  13.83373747,   7.52396968,\n",
       "         8.75727678,  10.0195377 ,  11.43100383,   9.67781409,\n",
       "         8.23518846,   6.91582453,   7.83546502,  12.44064643,\n",
       "         9.9950314 ,  11.88475311,  11.42245506,  13.23025062,\n",
       "         9.99465674,   8.82398301,   8.09189507,   9.81686481,\n",
       "        14.43989921,   8.89558229,  11.50978031,   9.55115108,\n",
       "         8.26662957,   9.1219776 ,   7.76614167,   8.33900921,\n",
       "         9.04471075,   9.38462247,  14.58426315,   7.93333756,\n",
       "        11.46952044,   7.45882941,   9.63891216,   6.19697595,\n",
       "        10.16348828,  10.7419901 ,  11.5139433 ,   9.88987937,\n",
       "         6.54208921,  10.38507506,  13.73151026,  11.02133416,\n",
       "         8.65947428,   9.58116817,  11.13379399,  12.69352239,\n",
       "         9.42538697,  11.77532157,   5.76144828,  12.47624738,\n",
       "        11.91589407,  10.74847217,   9.07056378,  11.70236908,\n",
       "         7.77326619,  10.6430048 ,   7.78013759,   5.90352679,\n",
       "        10.71290777,  11.06404311,  10.97106162,  14.30890778,\n",
       "        10.54133065,   7.07593693,  11.00500338,  14.27584968,\n",
       "        10.75906295,  13.13246017,  10.33040593,   8.08171649,\n",
       "        11.10087148,   8.94698012,   8.29661596,  11.24972543,\n",
       "        11.29754232,  13.4616719 ,   9.19269322,   7.35698449,\n",
       "        11.72242364,   8.85839536,  11.20326671,  12.58267396,\n",
       "         7.45116379,  10.80934587,   7.02932719,   9.16982638,\n",
       "         7.51394506,  10.54636149,  11.91959263,   9.3357492 ,\n",
       "        10.09388634,   8.16441353,   7.96555422,  12.52339336,\n",
       "         8.35456425,   8.22858193,   8.98690967,   9.64800322,\n",
       "        10.28279095,  13.03582595,   9.7894315 ,  12.43974729,\n",
       "         9.93455422,  12.19461356,  10.66175722,  11.47151008,\n",
       "         9.4741682 ,   7.75975917,  16.0638539 ,  10.26219271,\n",
       "         8.99685632,   9.19923265,   7.20004293,   9.98774162,\n",
       "        11.37098728,  11.78102914,   7.14947182,  10.48021502,\n",
       "         8.53477174,   7.02920266,   9.86303106,  10.83439368,\n",
       "         9.22540202,  11.02607659,  11.23258602,  12.01089875,\n",
       "         8.76449927,   8.18258436,   6.05172439,  12.33650598,\n",
       "         9.09333057,  13.801302  ,  11.23907409,   7.96477018,\n",
       "         8.94591685,   7.52011597,  12.66314263,  10.44158732,\n",
       "         8.26058845,  12.64177911,  11.53221678,  11.79427281,\n",
       "         7.7966194 ,   9.95954565,  10.96169125,   9.44216765,\n",
       "        11.88006642,  11.29882136,  13.48389987,  10.14613648,\n",
       "         7.13745041,  11.40054235,  11.19979149,  12.2519216 ,\n",
       "        14.06235699,   8.53143247,   8.10012179,   9.34650735,\n",
       "        13.44434117,   9.68964182,   6.3838776 ,   7.9006831 ,\n",
       "         8.16748086,   9.90215446,   8.96800142,  13.7120016 ,\n",
       "         8.67814124,   8.61420706,  12.23094273,  11.0603478 ,\n",
       "        15.13140027,   7.72842423,   5.81518451,  12.93228898,\n",
       "        10.75447271,  10.94671895,  10.78884356,   9.57853021,\n",
       "         7.16781586,   9.92018618,   9.95666005,   8.24813727,\n",
       "        10.80204497,  10.40521407,  11.45293111,  11.77436288,\n",
       "         9.59758386,   9.45572078,  10.41226774,   2.91635587,\n",
       "         8.65428864,  11.6165132 ,  10.26379601,  11.89200618,\n",
       "        10.53316628,  10.86886   ,  12.72794563,  12.95771177,\n",
       "        10.42082957,   7.51971595,   8.42313885,  10.23130062,\n",
       "        10.29059776,  10.02874364,   8.0446468 ,  11.05390786,\n",
       "         9.98006941,  10.81086643,  13.92138921,   8.55680008,\n",
       "        11.4482353 ,   7.55920364,   6.59166427,  13.6175741 ,\n",
       "         8.86846049,  15.13679421,  10.79170528,   7.68815346,\n",
       "        10.20493299,  10.64914586,   7.25260022,   9.88660009,\n",
       "        10.72367401,   8.10268205,   8.93033986,   6.32088186,\n",
       "        12.72715001,   9.56868705,   7.39636003,   9.94978684,\n",
       "        11.20974797,  12.0240005 ,   9.23536833,   9.96713239,\n",
       "        10.00376123,   6.54306843,   9.36661351,  10.65406366,\n",
       "        10.89287376,   9.2453382 ,  13.52738308,  10.56774676,\n",
       "        11.13190996,   9.30604452,  10.59864845,   9.2814013 ,\n",
       "         5.82648644,  12.50539142,  11.36912987,  12.72566425,\n",
       "         9.99220278,  13.44424205,   9.44443802,  10.41119911,\n",
       "         9.93933525,   7.92721747,  12.53356482,   8.6857661 ,\n",
       "         7.93880713,   8.8171878 ,   8.38580494,   9.16718828,\n",
       "         9.80705111,  11.64089088,  10.59098448,  10.63077594,\n",
       "         9.33772659,  11.36023376,  11.79943125,  11.71971806,\n",
       "         9.31126088,   7.5695821 ,  11.46010753,   9.23579895,\n",
       "         8.63448825,   7.38117119,   9.35399821,   8.96141709,\n",
       "         8.8819556 ,   7.41353691,  11.23714837,  12.06491493,\n",
       "        11.28852809,   9.35668367,   7.85581094,   9.91701031,\n",
       "        13.57899908,   8.26895653,   9.96083991,   9.18699495,\n",
       "        13.76640855,  12.48443256,  11.38949953,   8.71868113,\n",
       "        12.93451621,  10.70108245,  10.92034986,  12.02382065,\n",
       "        10.08644386,  10.79175743,   9.90551169,   9.48632129,\n",
       "         8.48478263,   7.09929399,   8.04358373,   8.82941307,\n",
       "         9.28055275,  11.60284896,  10.04897057,   8.89103677,\n",
       "         9.32512222,  13.12515378,  12.3706968 ,  11.08443759,\n",
       "        11.27039668,   8.54542993,  11.5552374 ,  10.83701873,\n",
       "         6.78033094,  12.47633745,  13.86708884,   7.57794206,\n",
       "         8.8041155 ,   7.00632455,   9.46626775,   8.03170371,\n",
       "        11.69615099,   8.85271476,   9.54775366,   7.78329048,\n",
       "        11.27820304,  11.35514583,   8.33312224,  10.33706882,\n",
       "        11.20396371,   9.866065  ,   6.18929331,   9.14688282,\n",
       "         9.83560405,  12.1553646 ,  10.87549035,  10.64883591,\n",
       "        12.1228761 ,  10.78723861,   9.2307986 ,   9.7388276 ,\n",
       "         9.42712279,   8.45003339,  11.82534542,  13.5185731 ,\n",
       "         9.88435688,   9.25898178,   9.351946  ,   8.09837169,\n",
       "         9.38416902,   5.36672956,  10.83463049,   8.80618587,\n",
       "         8.02205439,  11.28254751,  10.65351848,   8.52194067,\n",
       "        11.30815453,   9.7909708 ,  12.66932066,   6.04475125,\n",
       "         9.23542263,   8.70295314,   8.79373008,  10.83235916,\n",
       "        11.11689914,   8.87966155,   9.66052188,  12.00567514,\n",
       "         7.77069219,  12.26797707,  10.35901511,   9.82445245,\n",
       "        12.62373351,  13.24786983,  10.32198405,  10.57062909,\n",
       "         8.41221181,  11.28430567,  12.8108084 ,  12.13132398,\n",
       "         8.47193893,  12.9031415 ,  11.94689118,  15.12754049,\n",
       "         9.53249458,  11.54936284,  14.27198731,   4.60823684,\n",
       "         7.73853977,   7.07054283,   9.91677761,  11.21591447,\n",
       "        12.17353474,  11.31039797,   8.15237834,  10.79503452,\n",
       "         9.78577846,   9.62476348,   7.93321359,   4.97348978,\n",
       "         5.004517  ,  12.42560729,  12.95144385,   8.34720554,\n",
       "         6.71075869,  11.52571174,  10.85083288,  13.46176791,\n",
       "         9.41133592,   9.58401952,  10.34234387,   9.11876713,\n",
       "         9.20127642,   9.40249072,  12.45185992,  12.46163513,\n",
       "        11.4484549 ,  10.38738569,  12.75448228,   9.39353836,\n",
       "         7.27960372,   8.64990787,   8.81066074,  12.16097679,\n",
       "        12.22402799,   9.74566754,   9.93276391,   9.61860595,\n",
       "         9.01644612,   9.68780388,  10.77683164,  11.05478291,\n",
       "        12.62148551,  10.55270571,  11.3470261 ,   9.44613659,\n",
       "         9.30160539,   6.98871291,  11.34061509,  10.01581284,\n",
       "        10.0119713 ,  10.91631586,  10.26749977,  10.24229115,\n",
       "         9.15031774,  10.39656055,   9.19533388,  10.53151391,\n",
       "        11.49674487,   8.89906916,   5.96600604,  10.28657402,\n",
       "         9.2853257 ,   8.68140574,   8.70832738,   6.20196271,\n",
       "        11.00153713,  11.94160881,  10.79993862,  12.52754806,\n",
       "        10.83110653,   9.11118641,   9.34164151,  11.38761991,\n",
       "        10.20140983,   9.58632796,  11.92805462,   2.90491359,\n",
       "         7.35862078,  11.09658509,   5.81304651,   7.79480731,\n",
       "        10.48872426,   8.06935137,   7.74419601,  13.3443459 ,\n",
       "         9.66381696,   8.11031608,  10.37008127,   9.58870456,\n",
       "         9.75355377,  11.15875913,   6.62662987,   9.11331954,\n",
       "        11.56056901,   9.0519829 ,   9.86208214,  12.21331811,\n",
       "         8.23373683,  12.47809955,   8.06305409,   9.81911758,\n",
       "         9.52693706,  11.13176904,   8.56968433,  14.52189127,\n",
       "        11.5749667 ,   8.81301286,   5.38967346,   9.32989174,\n",
       "        11.86652812,   6.22201928,   6.12751237,  11.90742493,\n",
       "         7.70943033,  12.04686625,   9.64288435,  10.66986182,\n",
       "         7.02499242,   7.62763293,   8.98415034,   6.57655729,\n",
       "         8.92405184,  12.22096436,   7.26037937,   8.39888745,\n",
       "         9.77661695,   9.7837204 ,  13.04544617,   8.71649478,\n",
       "        10.95592037,  12.39054973,  10.15000366,   8.75013609,\n",
       "        12.80129372,  10.48936028,   8.65374233,  10.01716602,\n",
       "        10.26005617,  10.77552836,  11.47098382,   9.04502343,\n",
       "         8.16496552,   7.22398915,  10.87480678,  11.29619195,\n",
       "         6.36266156,   8.68059649,  11.98616732,   7.57458496,\n",
       "        13.23345483,  12.16646094,  10.25035874,  10.34927482,\n",
       "         6.18200904,   9.05868038,  10.59322443,   9.87230796,\n",
       "         9.47664681,  11.26487027,   8.01565965,   9.64921474,\n",
       "        11.37305316,   8.66785305,   8.01403242,  10.25974489,\n",
       "         9.54249956,   7.35012123,  11.99665027,  10.61105789,\n",
       "         6.56677118,  10.78109422,  10.32391877,   9.87398208,\n",
       "         8.36823937,  11.19804762,  11.81476692,   7.82636663,\n",
       "         6.60282901,  11.17177723,  12.06279306,  12.778912  ,\n",
       "        11.06220647,   8.25739904,  10.21981384,   8.60842659,\n",
       "         9.40380712,   7.38450383,   9.61799592,   7.76653599,\n",
       "         9.9486505 ,   8.94251025,  10.23066302,  11.15064682,\n",
       "        12.94209496,   9.37268256,   9.39889046,   7.62851328,\n",
       "         9.27737369,   9.90512266,   8.27251737,  11.15208115,\n",
       "         8.13006098,  11.31932115,  11.87395897,  10.89367324,\n",
       "        11.64281872,   6.59193772,   9.89460277,  11.43629472,\n",
       "         9.91428754,   8.66613669,   7.67595108,  10.04749606,\n",
       "         2.95529163,   9.85055464,  10.45554722,   9.47863195,\n",
       "         8.92433155,  10.22882199,   9.15805815,  10.64806057,\n",
       "         9.41674096,  12.26296284,  10.9466155 ,  10.96720851,\n",
       "        12.36708043,   5.40729645,  10.60785111,   8.03558825,\n",
       "        10.23891738,  11.32635279,  10.4109437 ,   9.73274302,\n",
       "         8.4973952 ,   9.65182083,  12.60644848,   9.90292275,\n",
       "         9.52618769,  10.04439273,  11.42027578,  10.03694217,\n",
       "        12.64205501,  11.27632538,  15.32871551,  11.65840036,\n",
       "         9.42505923,  11.82375765,   9.67185556,   7.00510017,\n",
       "         9.04506633,   8.31343968,  10.45899534,   9.13819779,\n",
       "         9.11596808,  13.48807019,  11.41893493,   9.96833041,\n",
       "        10.25727655,  10.69472542,  10.99094937,   9.82852144,\n",
       "         8.68081309,   6.62389   ,  13.41617692,  12.05745342,\n",
       "         8.73849773,   8.24776688,  11.04075985,  11.62817393,\n",
       "        13.13914178,  11.9258114 ,   8.45157839,  10.54792347,\n",
       "        11.52205807,   9.81932968,  12.34394641,  14.10974912,\n",
       "         7.86407362,  12.55239102,  10.38076072,  13.7749237 ,\n",
       "         7.48276834,   9.39180415,   8.05606064,  11.57635298,\n",
       "        11.03328999,   9.05678105,  10.29560761,   6.39603912])"
      ]
     },
     "execution_count": 92,
     "metadata": {},
     "output_type": "execute_result"
    }
   ],
   "source": [
    "sample"
   ]
  },
  {
   "cell_type": "code",
   "execution_count": 93,
   "metadata": {},
   "outputs": [
    {
     "data": {
      "text/plain": [
       "(array([   3.,    6.,   33.,   98.,  180.,  201.,  169.,   76.,   28.,    6.]),\n",
       " array([  2.90491359,   4.22080762,   5.53670165,   6.85259569,\n",
       "          8.16848972,   9.48438375,  10.80027778,  12.11617181,\n",
       "         13.43206584,  14.74795987,  16.0638539 ]),\n",
       " <a list of 10 Patch objects>)"
      ]
     },
     "execution_count": 93,
     "metadata": {},
     "output_type": "execute_result"
    },
    {
     "data": {
      "image/png": "[encoded data removed]",
      "text/plain": [
       "<matplotlib.figure.Figure at 0xa8eaf60>"
      ]
     },
     "metadata": {},
     "output_type": "display_data"
    }
   ],
   "source": [
    "plt.hist(sample)"
   ]
  },
  {
   "cell_type": "code",
   "execution_count": 94,
   "metadata": {
    "collapsed": true
   },
   "outputs": [],
   "source": [
    "from scipy.stats import shapiro"
   ]
  },
  {
   "cell_type": "code",
   "execution_count": 95,
   "metadata": {},
   "outputs": [
    {
     "data": {
      "text/plain": [
       "(0.9975653290748596, 0.28976771235466003)"
      ]
     },
     "execution_count": 95,
     "metadata": {},
     "output_type": "execute_result"
    }
   ],
   "source": [
    "shapiro(sample)"
   ]
  },
  {
   "cell_type": "code",
   "execution_count": 18,
   "metadata": {},
   "outputs": [
    {
     "data": {
      "text/plain": [
       "(0.9552549719810486, 0.029717760160565376)"
      ]
     },
     "execution_count": 18,
     "metadata": {},
     "output_type": "execute_result"
    }
   ],
   "source": [
    "shapiro(np.arange(1,60))"
   ]
  },
  {
   "cell_type": "code",
   "execution_count": 99,
   "metadata": {},
   "outputs": [
    {
     "name": "stdout",
     "output_type": "stream",
     "text": [
      "10.0128284068\n",
      "1.95277109901\n"
     ]
    }
   ],
   "source": [
    "print(np.mean(sample))\n",
    "print(np.std(sample))"
   ]
  },
  {
   "cell_type": "code",
   "execution_count": 100,
   "metadata": {},
   "outputs": [
    {
     "name": "stdout",
     "output_type": "stream",
     "text": [
      "2.90491359202\n",
      "16.0638539048\n"
     ]
    }
   ],
   "source": [
    "print(np.min(sample))\n",
    "print(np.max(sample))"
   ]
  },
  {
   "cell_type": "code",
   "execution_count": 101,
   "metadata": {},
   "outputs": [
    {
     "name": "stdout",
     "output_type": "stream",
     "text": [
      "5.4071202234\n",
      "8.71813454408\n",
      "9.97068715019\n",
      "11.3473276243\n",
      "14.5219390885\n"
     ]
    }
   ],
   "source": [
    "print(np.percentile(sample, 1))\n",
    "print(np.percentile(sample, 25))\n",
    "print(np.median(sample))\n",
    "print(np.percentile(sample, 75))\n",
    "print(np.percentile(sample, 99))"
   ]
  },
  {
   "cell_type": "code",
   "execution_count": 104,
   "metadata": {},
   "outputs": [
    {
     "data": {
      "text/plain": [
       "array([1, 0, 0, 1, 0, 0, 0, 0, 0, 0, 0, 1, 1, 1, 0, 1, 0, 0, 1, 0, 1, 0, 1,\n",
       "       0, 0, 0, 0, 0, 1, 0, 0, 0, 1, 0, 0, 1, 0, 0, 0, 0, 0, 0, 1, 1, 0, 1,\n",
       "       0, 0, 1, 0, 0, 0, 0, 0, 0, 1, 0, 1, 0, 0, 0, 1, 1, 0, 0, 0, 1, 1, 1,\n",
       "       1, 0, 0, 1, 0, 1, 1, 0, 0, 0, 0, 0, 1, 1, 0, 0, 0, 0, 1, 0, 0, 1, 1,\n",
       "       0, 0, 0, 0, 1, 0, 0, 0])"
      ]
     },
     "execution_count": 104,
     "metadata": {},
     "output_type": "execute_result"
    }
   ],
   "source": [
    "np.random.binomial(1, 0.3, size=100)"
   ]
  },
  {
   "cell_type": "code",
   "execution_count": 105,
   "metadata": {},
   "outputs": [
    {
     "data": {
      "text/plain": [
       "'Jack'"
      ]
     },
     "execution_count": 105,
     "metadata": {},
     "output_type": "execute_result"
    }
   ],
   "source": [
    "np.random.choice(['Jack', 'John', 'Rose'])"
   ]
  },
  {
   "cell_type": "code",
   "execution_count": null,
   "metadata": {
    "collapsed": true
   },
   "outputs": [],
   "source": [
    "np.random.binomial\n",
    "np.random.choice\n",
    "np.random.poisson\n",
    "np.random.randint\n",
    "np.random."
   ]
  },
  {
   "cell_type": "code",
   "execution_count": 106,
   "metadata": {
    "collapsed": true
   },
   "outputs": [],
   "source": [
    "from scipy.stats import ttest_1samp, ttest_ind"
   ]
  },
  {
   "cell_type": "code",
   "execution_count": 107,
   "metadata": {
    "collapsed": true
   },
   "outputs": [],
   "source": [
    "sample1 = np.random.normal(size=80, loc=0)\n",
    "sample2 = np.random.normal(size=80, loc=1)"
   ]
  },
  {
   "cell_type": "code",
   "execution_count": 32,
   "metadata": {},
   "outputs": [
    {
     "name": "stdout",
     "output_type": "stream",
     "text": [
      "Ttest_1sampResult(statistic=0.48935960046589233, pvalue=0.6259431499281141)\n",
      "Ttest_1sampResult(statistic=-0.49387990263927567, pvalue=0.6227613898907085)\n",
      "Ttest_1sampResult(statistic=-9.343035430585788, pvalue=2.083495649397373e-14)\n"
     ]
    }
   ],
   "source": [
    "print(ttest_1samp(sample1, 0))\n",
    "print(ttest_1samp(sample1, 0.1))\n",
    "print(ttest_1samp(sample1, 1))"
   ]
  },
  {
   "cell_type": "code",
   "execution_count": 33,
   "metadata": {},
   "outputs": [
    {
     "data": {
      "text/plain": [
       "Ttest_indResult(statistic=-5.910708054786378, pvalue=2.0307255489305066e-08)"
      ]
     },
     "execution_count": 33,
     "metadata": {},
     "output_type": "execute_result"
    }
   ],
   "source": [
    "ttest_ind(sample1, sample2)"
   ]
  },
  {
   "cell_type": "code",
   "execution_count": 44,
   "metadata": {},
   "outputs": [
    {
     "data": {
      "text/plain": [
       "(array([ 3.,  4.,  9., 10., 13., 23.,  7.,  5.,  3.,  3.]),\n",
       " array([-1.45234887, -0.95023903, -0.4481292 ,  0.05398064,  0.55609047,\n",
       "         1.05820031,  1.56031014,  2.06241998,  2.56452981,  3.06663965,\n",
       "         3.56874948]),\n",
       " <a list of 10 Patch objects>)"
      ]
     },
     "execution_count": 44,
     "metadata": {},
     "output_type": "execute_result"
    },
    {
     "data": {
      "image/png": "[encoded data removed]",
      "text/plain": [
       "<Figure size 432x288 with 1 Axes>"
      ]
     },
     "metadata": {
      "needs_background": "light"
     },
     "output_type": "display_data"
    }
   ],
   "source": [
    "plt.hist(sample1, alpha=0.5, bins=10)\n",
    "plt.hist(sample2, alpha=0.5, bins=10)"
   ]
  },
  {
   "cell_type": "code",
   "execution_count": 38,
   "metadata": {
    "collapsed": true
   },
   "outputs": [],
   "source": [
    "# матрицы перемножать и тд\n",
    "# .reshape\n",
    "#..."
   ]
  },
  {
   "cell_type": "markdown",
   "metadata": {},
   "source": [
    "## statsmodel & ml"
   ]
  },
  {
   "cell_type": "code",
   "execution_count": 127,
   "metadata": {
    "collapsed": true
   },
   "outputs": [],
   "source": [
    "X = np.random.random(size=100)\n",
    "X = np.sort(X)\n",
    "y_original = (X * 2)\n",
    "\n",
    "X_test = np.random.random(size=100)\n",
    "X_test = np.sort(X_test)\n",
    "y_test = X_test * 2\n",
    "\n",
    "noise = np.random.normal(loc=0, scale=0.5, size=100)\n",
    "y = y_original + noise"
   ]
  },
  {
   "cell_type": "code",
   "execution_count": 128,
   "metadata": {},
   "outputs": [
    {
     "data": {
      "text/plain": [
       "[<matplotlib.lines.Line2D at 0xc0f8048>]"
      ]
     },
     "execution_count": 128,
     "metadata": {},
     "output_type": "execute_result"
    },
    {
     "data": {
      "image/png": "[encoded data removed]",
      "text/plain": [
       "<matplotlib.figure.Figure at 0xc13e3c8>"
      ]
     },
     "metadata": {},
     "output_type": "display_data"
    }
   ],
   "source": [
    "plt.plot(X, y_original)"
   ]
  },
  {
   "cell_type": "code",
   "execution_count": 129,
   "metadata": {},
   "outputs": [
    {
     "data": {
      "image/png": "[encoded data removed]",
      "text/plain": [
       "<matplotlib.figure.Figure at 0xbfb3358>"
      ]
     },
     "metadata": {},
     "output_type": "display_data"
    }
   ],
   "source": [
    "plt.plot(X, y, '*')\n",
    "plt.show()"
   ]
  },
  {
   "cell_type": "code",
   "execution_count": 130,
   "metadata": {},
   "outputs": [
    {
     "name": "stdout",
     "output_type": "stream",
     "text": [
      "(100,)\n",
      "(100, 1)\n"
     ]
    }
   ],
   "source": [
    "print(X.shape)\n",
    "X = X.reshape(-1, 1)\n",
    "print(X.shape)"
   ]
  },
  {
   "cell_type": "code",
   "execution_count": 131,
   "metadata": {},
   "outputs": [
    {
     "data": {
      "text/plain": [
       "(100,)"
      ]
     },
     "execution_count": 131,
     "metadata": {},
     "output_type": "execute_result"
    }
   ],
   "source": [
    "y.shape"
   ]
  },
  {
   "cell_type": "code",
   "execution_count": 132,
   "metadata": {
    "collapsed": true
   },
   "outputs": [],
   "source": [
    "import statsmodels.api as sm\n",
    "\n",
    "model = sm.OLS(y, X)\n",
    "\n",
    "res = model.fit()"
   ]
  },
  {
   "cell_type": "code",
   "execution_count": 133,
   "metadata": {},
   "outputs": [
    {
     "name": "stdout",
     "output_type": "stream",
     "text": [
      "                            OLS Regression Results                            \n",
      "==============================================================================\n",
      "Dep. Variable:                      y   R-squared:                       0.785\n",
      "Model:                            OLS   Adj. R-squared:                  0.783\n",
      "Method:                 Least Squares   F-statistic:                     361.7\n",
      "Date:                Sat, 15 Dec 2018   Prob (F-statistic):           7.94e-35\n",
      "Time:                        11:52:12   Log-Likelihood:                -83.016\n",
      "No. Observations:                 100   AIC:                             168.0\n",
      "Df Residuals:                      99   BIC:                             170.6\n",
      "Df Model:                           1                                         \n",
      "Covariance Type:            nonrobust                                         \n",
      "==============================================================================\n",
      "                 coef    std err          t      P>|t|      [95.0% Conf. Int.]\n",
      "------------------------------------------------------------------------------\n",
      "x1             1.9715      0.104     19.018      0.000         1.766     2.177\n",
      "==============================================================================\n",
      "Omnibus:                        1.709   Durbin-Watson:                   2.107\n",
      "Prob(Omnibus):                  0.425   Jarque-Bera (JB):                1.516\n",
      "Skew:                           0.301   Prob(JB):                        0.469\n",
      "Kurtosis:                       2.964   Cond. No.                         1.00\n",
      "==============================================================================\n",
      "\n",
      "Warnings:\n",
      "[1] Standard Errors assume that the covariance matrix of the errors is correctly specified.\n"
     ]
    }
   ],
   "source": [
    "print(res.summary())"
   ]
  },
  {
   "cell_type": "code",
   "execution_count": 134,
   "metadata": {
    "collapsed": true
   },
   "outputs": [],
   "source": [
    "y_pred = res.predict(X_test)"
   ]
  },
  {
   "cell_type": "code",
   "execution_count": 135,
   "metadata": {},
   "outputs": [
    {
     "data": {
      "image/png": "[encoded data removed]",
      "text/plain": [
       "<matplotlib.figure.Figure at 0xc1aadd8>"
      ]
     },
     "metadata": {},
     "output_type": "display_data"
    }
   ],
   "source": [
    "plt.plot(X_test, y_pred)\n",
    "plt.plot(X_test, y_test, '*')\n",
    "plt.legend(['pred', 'original'])\n",
    "plt.show()"
   ]
  },
  {
   "cell_type": "code",
   "execution_count": 188,
   "metadata": {},
   "outputs": [
    {
     "data": {
      "text/plain": [
       "<matplotlib.collections.PathCollection at 0x1c1ba15e10>"
      ]
     },
     "execution_count": 188,
     "metadata": {},
     "output_type": "execute_result"
    },
    {
     "data": {
      "image/png": "[encoded data removed]",
      "text/plain": [
       "<Figure size 432x288 with 1 Axes>"
      ]
     },
     "metadata": {
      "needs_background": "light"
     },
     "output_type": "display_data"
    }
   ],
   "source": [
    "plt.scatter(y, y_pred)"
   ]
  },
  {
   "cell_type": "code",
   "execution_count": 189,
   "metadata": {},
   "outputs": [
    {
     "data": {
      "text/plain": [
       "<matplotlib.collections.PathCollection at 0x1c1b9ed908>"
      ]
     },
     "execution_count": 189,
     "metadata": {},
     "output_type": "execute_result"
    },
    {
     "data": {
      "image/png": "[encoded data removed]",
      "text/plain": [
       "<Figure size 432x288 with 1 Axes>"
      ]
     },
     "metadata": {
      "needs_background": "light"
     },
     "output_type": "display_data"
    }
   ],
   "source": [
    "plt.scatter(y_original, y_pred)"
   ]
  },
  {
   "cell_type": "code",
   "execution_count": 136,
   "metadata": {
    "collapsed": true
   },
   "outputs": [],
   "source": [
    "from sklearn.metrics import mean_squared_error"
   ]
  },
  {
   "cell_type": "code",
   "execution_count": 137,
   "metadata": {},
   "outputs": [
    {
     "data": {
      "text/plain": [
       "0.30703292572324681"
      ]
     },
     "execution_count": 137,
     "metadata": {},
     "output_type": "execute_result"
    }
   ],
   "source": [
    "mean_squared_error(y, y_pred)"
   ]
  },
  {
   "cell_type": "code",
   "execution_count": 193,
   "metadata": {},
   "outputs": [
    {
     "data": {
      "text/plain": [
       "0.5673152758528064"
      ]
     },
     "execution_count": 193,
     "metadata": {},
     "output_type": "execute_result"
    }
   ],
   "source": [
    "mean_squared_error(y, np.ones(100) * 0.5)"
   ]
  },
  {
   "cell_type": "markdown",
   "metadata": {},
   "source": [
    "## SKLEARN EXAMPLE"
   ]
  },
  {
   "cell_type": "code",
   "execution_count": 1,
   "metadata": {},
   "outputs": [],
   "source": [
    "from sklearn import datasets\n",
    "\n",
    "digits = datasets.load_digits()"
   ]
  },
  {
   "cell_type": "code",
   "execution_count": 156,
   "metadata": {},
   "outputs": [
    {
     "data": {
      "text/plain": [
       "(1797, 8, 8)"
      ]
     },
     "execution_count": 156,
     "metadata": {},
     "output_type": "execute_result"
    }
   ],
   "source": [
    "digits.images.shape"
   ]
  },
  {
   "cell_type": "code",
   "execution_count": 145,
   "metadata": {},
   "outputs": [
    {
     "data": {
      "text/plain": [
       "array([0, 0, 0, 0, 0, 0, 0, 0, 0, 0, 0, 0, 0, 0, 0, 0, 0, 0, 0, 0, 0, 0, 0,\n",
       "       0, 0, 0, 0, 0, 0, 0, 0, 0, 0, 0, 0, 0, 0, 0, 0, 0, 0, 0, 0, 0, 0, 0,\n",
       "       0, 0, 0, 0, 1, 1, 1, 1, 1, 1, 1, 1, 1, 1, 1, 1, 1, 1, 1, 1, 1, 1, 1,\n",
       "       1, 1, 1, 1, 1, 1, 1, 1, 1, 1, 1, 1, 1, 1, 1, 1, 1, 1, 1, 1, 1, 1, 1,\n",
       "       1, 1, 1, 1, 1, 1, 1, 1, 2, 2, 2, 2, 2, 2, 2, 2, 2, 2, 2, 2, 2, 2, 2,\n",
       "       2, 2, 2, 2, 2, 2, 2, 2, 2, 2, 2, 2, 2, 2, 2, 2, 2, 2, 2, 2, 2, 2, 2,\n",
       "       2, 2, 2, 2, 2, 2, 2, 2, 2, 2, 2, 2])"
      ]
     },
     "execution_count": 145,
     "metadata": {},
     "output_type": "execute_result"
    }
   ],
   "source": [
    "target"
   ]
  },
  {
   "cell_type": "code",
   "execution_count": 163,
   "metadata": {
    "collapsed": true
   },
   "outputs": [],
   "source": [
    "k=15"
   ]
  },
  {
   "cell_type": "code",
   "execution_count": 164,
   "metadata": {},
   "outputs": [
    {
     "data": {
      "text/plain": [
       "<matplotlib.image.AxesImage at 0xd3ca6d8>"
      ]
     },
     "execution_count": 164,
     "metadata": {},
     "output_type": "execute_result"
    },
    {
     "data": {
      "image/png": "[encoded data removed]",
      "text/plain": [
       "<matplotlib.figure.Figure at 0xd337978>"
      ]
     },
     "metadata": {},
     "output_type": "display_data"
    }
   ],
   "source": [
    "plt.figure(figsize=(2,2))\n",
    "plt.imshow(digits.images[k], cmap=plt.cm.gray_r) "
   ]
  },
  {
   "cell_type": "code",
   "execution_count": 165,
   "metadata": {},
   "outputs": [
    {
     "data": {
      "text/plain": [
       "5"
      ]
     },
     "execution_count": 165,
     "metadata": {},
     "output_type": "execute_result"
    }
   ],
   "source": [
    "digits.target[k]"
   ]
  },
  {
   "cell_type": "code",
   "execution_count": 168,
   "metadata": {},
   "outputs": [
    {
     "data": {
      "text/plain": [
       "array([[  0.,   0.,   5.,  13.,   9.,   1.,   0.,   0.],\n",
       "       [  0.,   0.,  13.,  15.,  10.,  15.,   5.,   0.],\n",
       "       [  0.,   3.,  15.,   2.,   0.,  11.,   8.,   0.],\n",
       "       [  0.,   4.,  12.,   0.,   0.,   8.,   8.,   0.],\n",
       "       [  0.,   5.,   8.,   0.,   0.,   9.,   8.,   0.],\n",
       "       [  0.,   4.,  11.,   0.,   1.,  12.,   7.,   0.],\n",
       "       [  0.,   2.,  14.,   5.,  10.,  12.,   0.,   0.],\n",
       "       [  0.,   0.,   6.,  13.,  10.,   0.,   0.,   0.]])"
      ]
     },
     "execution_count": 168,
     "metadata": {},
     "output_type": "execute_result"
    }
   ],
   "source": [
    "digits.images[0]"
   ]
  },
  {
   "cell_type": "code",
   "execution_count": 166,
   "metadata": {},
   "outputs": [
    {
     "data": {
      "text/plain": [
       "array([  0.,   0.,   5.,  13.,   9.,   1.,   0.,   0.,   0.,   0.,  13.,\n",
       "        15.,  10.,  15.,   5.,   0.,   0.,   3.,  15.,   2.,   0.,  11.,\n",
       "         8.,   0.,   0.,   4.,  12.,   0.,   0.,   8.,   8.,   0.,   0.,\n",
       "         5.,   8.,   0.,   0.,   9.,   8.,   0.,   0.,   4.,  11.,   0.,\n",
       "         1.,  12.,   7.,   0.,   0.,   2.,  14.,   5.,  10.,  12.,   0.,\n",
       "         0.,   0.,   0.,   6.,  13.,  10.,   0.,   0.,   0.])"
      ]
     },
     "execution_count": 166,
     "metadata": {},
     "output_type": "execute_result"
    }
   ],
   "source": [
    "digits.data[0]"
   ]
  },
  {
   "cell_type": "code",
   "execution_count": 169,
   "metadata": {},
   "outputs": [],
   "source": [
    "X = digits.data\n",
    "y = digits.target"
   ]
  },
  {
   "cell_type": "code",
   "execution_count": 171,
   "metadata": {
    "collapsed": true
   },
   "outputs": [],
   "source": [
    "from sklearn.model_selection import train_test_split"
   ]
  },
  {
   "cell_type": "code",
   "execution_count": 174,
   "metadata": {},
   "outputs": [
    {
     "name": "stdout",
     "output_type": "stream",
     "text": [
      "(1257, 64) (1257,)\n",
      "(540, 64) (540,)\n"
     ]
    }
   ],
   "source": [
    "X_train, X_test, y_train, y_test = train_test_split(X, y, test_size=0.3)\n",
    "\n",
    "print(X_train.shape, y_train.shape)\n",
    "print(X_test.shape, y_test.shape)"
   ]
  },
  {
   "cell_type": "code",
   "execution_count": 177,
   "metadata": {
    "collapsed": true
   },
   "outputs": [],
   "source": [
    "from sklearn.ensemble import RandomForestClassifier"
   ]
  },
  {
   "cell_type": "code",
   "execution_count": 178,
   "metadata": {
    "collapsed": true
   },
   "outputs": [],
   "source": [
    "clf = RandomForestClassifier(n_estimators=200)"
   ]
  },
  {
   "cell_type": "code",
   "execution_count": 179,
   "metadata": {},
   "outputs": [
    {
     "name": "stdout",
     "output_type": "stream",
     "text": [
      "0.7430424690246582\n"
     ]
    }
   ],
   "source": [
    "import time\n",
    "start = time.time()\n",
    "\n",
    "clf.fit(X_train, y_train)\n",
    "\n",
    "print(time.time() - start)"
   ]
  },
  {
   "cell_type": "code",
   "execution_count": 180,
   "metadata": {
    "collapsed": true
   },
   "outputs": [],
   "source": [
    "y_pred = clf.predict(X_test)"
   ]
  },
  {
   "cell_type": "code",
   "execution_count": 181,
   "metadata": {},
   "outputs": [
    {
     "data": {
      "text/plain": [
       "array([3, 3, 2, 4, 5, 6, 7, 3, 3, 1])"
      ]
     },
     "execution_count": 181,
     "metadata": {},
     "output_type": "execute_result"
    }
   ],
   "source": [
    "y_pred[:10]"
   ]
  },
  {
   "cell_type": "code",
   "execution_count": 182,
   "metadata": {
    "collapsed": true
   },
   "outputs": [],
   "source": [
    "from sklearn.metrics import accuracy_score"
   ]
  },
  {
   "cell_type": "code",
   "execution_count": 183,
   "metadata": {},
   "outputs": [
    {
     "data": {
      "text/plain": [
       "0.96666666666666667"
      ]
     },
     "execution_count": 183,
     "metadata": {},
     "output_type": "execute_result"
    }
   ],
   "source": [
    "accuracy_score(y_test, y_pred)"
   ]
  },
  {
   "cell_type": "code",
   "execution_count": 192,
   "metadata": {},
   "outputs": [
    {
     "data": {
      "text/plain": [
       "array([ 15,  33,  65,  68,  77, 155, 176, 214, 251, 252, 260, 316, 319,\n",
       "       340, 367, 412, 465, 515])"
      ]
     },
     "execution_count": 192,
     "metadata": {},
     "output_type": "execute_result"
    }
   ],
   "source": [
    "np.arange(len(y_test))[~(y_test == y_pred)]"
   ]
  },
  {
   "cell_type": "code",
   "execution_count": 195,
   "metadata": {},
   "outputs": [
    {
     "name": "stdout",
     "output_type": "stream",
     "text": [
      "Predicted: 9\n",
      "True: 5\n"
     ]
    },
    {
     "data": {
      "text/plain": [
       "<matplotlib.image.AxesImage at 0xf92a978>"
      ]
     },
     "execution_count": 195,
     "metadata": {},
     "output_type": "execute_result"
    },
    {
     "data": {
      "image/png": "[encoded data removed]",
      "text/plain": [
       "<matplotlib.figure.Figure at 0xf872550>"
      ]
     },
     "metadata": {},
     "output_type": "display_data"
    }
   ],
   "source": [
    "k = 65\n",
    "\n",
    "img_k = X_test[k].reshape((8,8))\n",
    "pred_k = y_pred[k]\n",
    "true_k = y_test[k]\n",
    "\n",
    "print(\"Predicted: {}\".format(pred_k))\n",
    "print(\"True: {}\".format(true_k))\n",
    "\n",
    "\n",
    "plt.figure(figsize=(2,2))\n",
    "plt.imshow(img_k, cmap=plt.cm.gray_r) "
   ]
  },
  {
   "cell_type": "markdown",
   "metadata": {
    "collapsed": true
   },
   "source": [
    "## Домашнее задание. Пробуем машинное обучение\n",
    "\n",
    "* Возьмите из sklearn.datasets данные о ценах на недвижимость в Бостоне ([sklearn.datasets.load_boston](sklearn.datasets.load_boston))\n",
    "* **(3 балла)** Пощупайте данные: почитайте описание признаков, посмотрите на основные статистики, исследуйте данные на выбрсоы и на пропущенные значения, нарисуйте гистограммы 3 каких-нибудь признаков. Что вы на них видите? Нарисуйте диаграмы рассеивания каких-нибудь признаков. Какие выводы можно сделать? (На графиках должны быть заголовки и подписаны оси)\n",
    "* **(1 балл)** Разделите выборку на две части: обучающую и тестовую (пропорции 3:1). На одной из частей мы будем обучать модель, а на другой - измерять качество модели\n",
    "* **(3 балла)** Обучите модель линейной регресии на этих данных с помощью модуля sklearn (используйте [sklearn.linear_models.LinearRegression](https://scikit-learn.org/stable/modules/generated/sklearn.linear_model.LinearRegression.html) аналогично тому, как использовался RandomForestClassifier в материалах лекции)\n",
    "* **(2 балла)** Получите прогнозы модели на тестовых данных. Какова среднеквадратичная ошибка? ([sklearn.metrics.mean_squared_error](https://scikit-learn.org/stable/modules/generated/sklearn.metrics.mean_squared_error.html))?\n",
    "* **(1 балл)** Какое лучшее константное решение в этой задаче (когда предсказываем для всех объектов одну и ту же цену)? Какое значение среднеквадратичной ошибки для этого константного решения?\n",
    "* **(1 балл)** Каково значение коэффициента детерминации на тестовой выборке? ([sklearn.metrics.r2_score](https://scikit-learn.org/stable/modules/generated/sklearn.metrics.r2_score.html))?\n",
    "* **(3 балл)** Попробуйте аналогичным образом обучить на этих же данных какой-нибудь другой регрессор из sklearn (например, sklearn.svm.SVR, sklearn.ensemble.RandomForestRegressor или другую модель на Ваш выбор)\n",
    "* **(1 балл)** Какое значение квадратичной ошибки достигает эта модель на тестовой выборке? Какая модель показала себя лучше?\n",
    "* (**Бонус: 4 балла**) Постарайтесь придумать какой-нибудь способ, с помощью которого можно достичь значение метрики лучшее, чем уже полученные"
   ]
  }
 ],
 "metadata": {
  "kernelspec": {
   "display_name": "Python 3",
   "language": "python",
   "name": "python3"
  },
  "language_info": {
   "codemirror_mode": {
    "name": "ipython",
    "version": 3
   },
   "file_extension": ".py",
   "mimetype": "text/x-python",
   "name": "python",
   "nbconvert_exporter": "python",
   "pygments_lexer": "ipython3",
   "version": "3.6.6"
  }
 },
 "nbformat": 4,
 "nbformat_minor": 2
}
